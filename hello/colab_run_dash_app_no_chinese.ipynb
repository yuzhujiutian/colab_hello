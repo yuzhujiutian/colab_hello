{
  "nbformat": 4,
  "nbformat_minor": 0,
  "metadata": {
    "colab": {
      "name": "colab_run_dash_app_no_chinese.ipynb",
      "provenance": [],
      "authorship_tag": "ABX9TyOvmG4w2JAfu+cs9145eSHX",
      "include_colab_link": true
    },
    "kernelspec": {
      "name": "python3",
      "display_name": "Python 3"
    }
  },
  "cells": [
    {
      "cell_type": "markdown",
      "metadata": {
        "id": "view-in-github",
        "colab_type": "text"
      },
      "source": [
        "<a href=\"https://colab.research.google.com/github/yuzhujiutian/colab_hello/blob/master/hello/colab_run_dash_app_no_chinese.ipynb\" target=\"_parent\"><img src=\"https://colab.research.google.com/assets/colab-badge.svg\" alt=\"Open In Colab\"/></a>"
      ]
    },
    {
      "cell_type": "markdown",
      "metadata": {
        "id": "RaoUQ15MCj8o",
        "colab_type": "text"
      },
      "source": [
        "#### install ngrok"
      ]
    },
    {
      "cell_type": "code",
      "metadata": {
        "id": "VwbInOiTBcLr",
        "colab_type": "code",
        "colab": {
          "base_uri": "https://localhost:8080/",
          "height": 238
        },
        "outputId": "081d15cb-61f4-4db3-feac-d5003ec0f3b5"
      },
      "source": [
        "!wget https://bin.equinox.io/c/4VmDzA7iaHb/ngrok-stable-linux-amd64.zip\n",
        "!unzip ngrok-stable-linux-amd64.zip"
      ],
      "execution_count": 1,
      "outputs": [
        {
          "output_type": "stream",
          "text": [
            "--2020-05-30 10:15:53--  https://bin.equinox.io/c/4VmDzA7iaHb/ngrok-stable-linux-amd64.zip\n",
            "Resolving bin.equinox.io (bin.equinox.io)... 52.21.2.64, 52.203.87.192, 34.238.5.126, ...\n",
            "Connecting to bin.equinox.io (bin.equinox.io)|52.21.2.64|:443... connected.\n",
            "HTTP request sent, awaiting response... 200 OK\n",
            "Length: 13773305 (13M) [application/octet-stream]\n",
            "Saving to: ‘ngrok-stable-linux-amd64.zip’\n",
            "\n",
            "\r          ngrok-sta   0%[                    ]       0  --.-KB/s               \rngrok-stable-linux- 100%[===================>]  13.13M  81.5MB/s    in 0.2s    \n",
            "\n",
            "2020-05-30 10:15:53 (81.5 MB/s) - ‘ngrok-stable-linux-amd64.zip’ saved [13773305/13773305]\n",
            "\n",
            "Archive:  ngrok-stable-linux-amd64.zip\n",
            "  inflating: ngrok                   \n"
          ],
          "name": "stdout"
        }
      ]
    },
    {
      "cell_type": "markdown",
      "metadata": {
        "id": "B86fQwUlDpUY",
        "colab_type": "text"
      },
      "source": [
        "ngrok download https://ngrok.com/download"
      ]
    },
    {
      "cell_type": "markdown",
      "metadata": {
        "id": "bgyiq0kuCvMP",
        "colab_type": "text"
      },
      "source": [
        "#### launch ngrok"
      ]
    },
    {
      "cell_type": "code",
      "metadata": {
        "id": "1XvKgdMYBhP4",
        "colab_type": "code",
        "colab": {}
      },
      "source": [
        "get_ipython().system_raw('./ngrok http 8050 &')"
      ],
      "execution_count": 0,
      "outputs": []
    },
    {
      "cell_type": "code",
      "metadata": {
        "id": "TeazZCptBtxv",
        "colab_type": "code",
        "colab": {
          "base_uri": "https://localhost:8080/",
          "height": 34
        },
        "outputId": "988ad27c-af3a-469c-f00f-ace781799002"
      },
      "source": [
        "!curl -s http://localhost:4040/api/tunnels | python3 -c \"import sys, json; print(json.load(sys.stdin)['tunnels'][0]['public_url'])\""
      ],
      "execution_count": 3,
      "outputs": [
        {
          "output_type": "stream",
          "text": [
            "https://c688d9af8540.ngrok.io\n"
          ],
          "name": "stdout"
        }
      ]
    },
    {
      "cell_type": "markdown",
      "metadata": {
        "id": "KWT8PoA2C2m_",
        "colab_type": "text"
      },
      "source": [
        "#### install dash"
      ]
    },
    {
      "cell_type": "code",
      "metadata": {
        "id": "wgIo6LGeB5jv",
        "colab_type": "code",
        "colab": {
          "base_uri": "https://localhost:8080/",
          "height": 306
        },
        "outputId": "e4674deb-2a7b-45a7-80ba-2cd41c21162e"
      },
      "source": [
        "!pip install -q dash\n",
        "!pip install -q dash_bootstrap_components"
      ],
      "execution_count": 4,
      "outputs": [
        {
          "output_type": "stream",
          "text": [
            "\u001b[K     |████████████████████████████████| 71kB 2.0MB/s \n",
            "\u001b[K     |████████████████████████████████| 1.2MB 7.7MB/s \n",
            "\u001b[K     |████████████████████████████████| 3.4MB 17.8MB/s \n",
            "\u001b[K     |████████████████████████████████| 194kB 32.9MB/s \n",
            "\u001b[K     |████████████████████████████████| 1.8MB 42.9MB/s \n",
            "\u001b[K     |████████████████████████████████| 358kB 43.4MB/s \n",
            "\u001b[?25h  Building wheel for dash (setup.py) ... \u001b[?25l\u001b[?25hdone\n",
            "  Building wheel for flask-compress (setup.py) ... \u001b[?25l\u001b[?25hdone\n",
            "  Building wheel for dash-renderer (setup.py) ... \u001b[?25l\u001b[?25hdone\n",
            "  Building wheel for dash-core-components (setup.py) ... \u001b[?25l\u001b[?25hdone\n",
            "  Building wheel for dash-html-components (setup.py) ... \u001b[?25l\u001b[?25hdone\n",
            "  Building wheel for dash-table (setup.py) ... \u001b[?25l\u001b[?25hdone\n",
            "\u001b[K     |████████████████████████████████| 112kB 2.8MB/s \n",
            "\u001b[?25h  Installing build dependencies ... \u001b[?25l\u001b[?25hdone\n",
            "  Getting requirements to build wheel ... \u001b[?25l\u001b[?25hdone\n",
            "    Preparing wheel metadata ... \u001b[?25l\u001b[?25hdone\n",
            "  Building wheel for dash-bootstrap-components (PEP 517) ... \u001b[?25l\u001b[?25hdone\n"
          ],
          "name": "stdout"
        }
      ]
    },
    {
      "cell_type": "markdown",
      "metadata": {
        "id": "zh_ef-q3C6l3",
        "colab_type": "text"
      },
      "source": [
        "#### dash app"
      ]
    },
    {
      "cell_type": "code",
      "metadata": {
        "id": "dUEKffaICNS_",
        "colab_type": "code",
        "colab": {
          "base_uri": "https://localhost:8080/",
          "height": 34
        },
        "outputId": "560fe2ab-fbf0-4a3d-c0f0-c7da00c168c4"
      },
      "source": [
        "%%writefile my_app1.py\n",
        "import dash\n",
        "import dash_core_components as dcc\n",
        "import dash_html_components as html\n",
        "\n",
        "external_stylesheets = ['https://codepen.io/chriddyp/pen/bWLwgP.css']\n",
        "\n",
        "app = dash.Dash(__name__, external_stylesheets=external_stylesheets)\n",
        "\n",
        "app.layout = html.Div(children=[\n",
        "    html.H1(children='Hello Dash on Google Colab'),\n",
        "\n",
        "    html.Div(children='''\n",
        "        Dash: A web application framework for Python.\n",
        "    '''),\n",
        "\n",
        "    dcc.Graph(\n",
        "        id='example-graph',\n",
        "        figure={\n",
        "            'data': [\n",
        "                {'x': [1, 2, 3], 'y': [4, 1, 2], 'type': 'bar', 'name': 'SF'},\n",
        "                {'x': [1, 2, 3], 'y': [2, 4, 5], 'type': 'bar', 'name': u'Montréal'},\n",
        "            ],\n",
        "            'layout': {\n",
        "                'title': 'Dash Data Visualization'\n",
        "            }\n",
        "        }\n",
        "    )\n",
        "])\n",
        "\n",
        "if __name__ == '__main__':\n",
        "    app.run_server(debug=True)"
      ],
      "execution_count": 5,
      "outputs": [
        {
          "output_type": "stream",
          "text": [
            "Writing my_app1.py\n"
          ],
          "name": "stdout"
        }
      ]
    },
    {
      "cell_type": "markdown",
      "metadata": {
        "id": "UaobPoCwC92o",
        "colab_type": "text"
      },
      "source": [
        "#### run app"
      ]
    },
    {
      "cell_type": "code",
      "metadata": {
        "id": "cipL7HJ-CPZA",
        "colab_type": "code",
        "colab": {
          "base_uri": "https://localhost:8080/",
          "height": 170
        },
        "outputId": "73c49f3e-5add-4d9a-b7c3-9ad19c9b0464"
      },
      "source": [
        "!python my_app1.py"
      ],
      "execution_count": 6,
      "outputs": [
        {
          "output_type": "stream",
          "text": [
            "Running on http://127.0.0.1:8050/\n",
            "Debugger PIN: 522-433-798\n",
            " * Serving Flask app \"my_app1\" (lazy loading)\n",
            " * Environment: production\n",
            "\u001b[31m   WARNING: This is a development server. Do not use it in a production deployment.\u001b[0m\n",
            "\u001b[2m   Use a production WSGI server instead.\u001b[0m\n",
            " * Debug mode: on\n",
            "Running on http://127.0.0.1:8050/\n",
            "Debugger PIN: 872-275-549\n"
          ],
          "name": "stdout"
        }
      ]
    },
    {
      "cell_type": "markdown",
      "metadata": {
        "id": "f31E5PgjE1IR",
        "colab_type": "text"
      },
      "source": [
        "#### bonus"
      ]
    },
    {
      "cell_type": "markdown",
      "metadata": {
        "id": "cEtlA3OQE4eJ",
        "colab_type": "text"
      },
      "source": [
        "https://quabr.com/53622518/launch-a-dash-app-in-a-google-colab-notebook\n",
        "\n",
        "https://colab.research.google.com/github/sanpei3/ColaboratoryDash/blob/master/colab_dash.ipynb#scrollTo=uuHS64aNk6oK\n",
        "\n",
        "https://stackoverflow.com/questions/53622518/launch-a-dash-app-in-a-google-colab-notebook"
      ]
    }
  ]
}