{
  "nbformat": 4,
  "nbformat_minor": 0,
  "metadata": {
    "colab": {
      "name": "python list 列表数据处理.ipynb",
      "provenance": [],
      "collapsed_sections": [],
      "authorship_tag": "ABX9TyPH0mUwAByj3gBjou5mIao2",
      "include_colab_link": true
    },
    "kernelspec": {
      "name": "python3",
      "display_name": "Python 3"
    }
  },
  "cells": [
    {
      "cell_type": "markdown",
      "metadata": {
        "id": "view-in-github",
        "colab_type": "text"
      },
      "source": [
        "<a href=\"https://colab.research.google.com/github/yuzhujiutian/colab_hello/blob/master/list/python_list_%E5%88%97%E8%A1%A8%E6%95%B0%E6%8D%AE%E5%A4%84%E7%90%86.ipynb\" target=\"_parent\"><img src=\"https://colab.research.google.com/assets/colab-badge.svg\" alt=\"Open In Colab\"/></a>"
      ]
    },
    {
      "cell_type": "code",
      "metadata": {
        "id": "il3dSziyvaZH",
        "colab_type": "code",
        "colab": {
          "base_uri": "https://localhost:8080/",
          "height": 527
        },
        "outputId": "c4f3d4cd-e6a2-4165-f3d4-b57c7c2c83ce"
      },
      "source": [
        "\"\"\"\n",
        "20200530\n",
        "\n",
        "1. 列表数据处理\n",
        "\n",
        "1) 字符串转列表 split\n",
        "2) 列表空值替换 \n",
        "3) 子列表值求和\n",
        "\"\"\"\n",
        "\n",
        "import os\n",
        "\n",
        "\n",
        "s1 = '1,2;2.5,2.5,5;3;4;5;6;7;8;9'\n",
        "s2 = '1,2,3;2;3'\n",
        "\n",
        "s1_semicolon_count = s1.count(';')\n",
        "s2_semicolon_count = s2.count(';')\n",
        "\n",
        "CSJD_YSSJ_LEN = 9    # 目前数据结构有 9 个字段，依次是 t功能 t网络 t关联模块 t配表查漏 tXX tXX tXX tXX tXX\n",
        "\n",
        "if(s1_semicolon_count < CSJD_YSSJ_LEN-1):\n",
        "  s1 = s1 + ';'*(CSJD_YSSJ_LEN-1 - s1_semicolon_count)\n",
        "\n",
        "if(s2_semicolon_count < CSJD_YSSJ_LEN-1):\n",
        "  s2 = s2 + ';'*(CSJD_YSSJ_LEN-1 - s2_semicolon_count)\n",
        "\n",
        "s1_list = s1.split(';')\n",
        "s1_list = [x if x else '0' for x in s1_list]    # 参考 https://stackoverflow.com/a/45476478/11280199 https://stackoverflow.com/questions/45474709/replacing-null-values-in-a-list-with-values-of-another-list\n",
        "s1_list_pretty = [str(sum(float(i) for i in x.split(','))) if x.split(',') else x for x in s1_list] # 参考 https://stackoverflow.com/a/16226435/11280199 https://stackoverflow.com/questions/16226397/sum-of-a-string-contains-a-sequence-of-decimal-numbers\n",
        "\n",
        "s2_list = s2.split(';')\n",
        "s2_list = [x if x else '0' for x in s2_list]    # 空值替换成 0\n",
        "s2_list_pretty = [str(sum(float(i) for i in x.split(','))) if x.split(',') else x for x in s2_list]\n",
        "\n",
        "print(s1)\n",
        "print(s1_list)\n",
        "print(s1_list_pretty)\n",
        "\n",
        "print(os.linesep)\n",
        "\n",
        "print(s2)\n",
        "print(s2_list)\n",
        "print(s2_list_pretty)\n",
        "\n",
        "print(os.linesep)\n",
        "\n",
        "# 求权重\n",
        "s1_list_sum = sum(float(i) for i in s1_list_pretty)\n",
        "for i, v in enumerate(s1_list_pretty): # 参考 https://www.cnblogs.com/pizitai/p/6398276.html Python列表(List)的三种遍历(序号和值)方法\n",
        "  if i < CSJD_YSSJ_LEN:\n",
        "    print(f'{i+1} ... {float(v)/s1_list_sum}')\n",
        "\n",
        "print(os.linesep)\n",
        "\n",
        "s2_list_sum = sum(float(i) for i in s2_list_pretty)\n",
        "for i, v in enumerate(s2_list_pretty):\n",
        "  if i < CSJD_YSSJ_LEN:\n",
        "    print(f'{i+1} ... {float(v)/s2_list_sum}')\n"
      ],
      "execution_count": 7,
      "outputs": [
        {
          "output_type": "stream",
          "text": [
            "1,2;2.5,2.5,5;3;4;5;6;7;8;9\n",
            "['1,2', '2.5,2.5,5', '3', '4', '5', '6', '7', '8', '9']\n",
            "['3.0', '10.0', '3.0', '4.0', '5.0', '6.0', '7.0', '8.0', '9.0']\n",
            "\n",
            "\n",
            "1,2,3;2;3;;;;;;\n",
            "['1,2,3', '2', '3', '0', '0', '0', '0', '0', '0']\n",
            "['6.0', '2.0', '3.0', '0.0', '0.0', '0.0', '0.0', '0.0', '0.0']\n",
            "\n",
            "\n",
            "1 ... 0.05454545454545454\n",
            "2 ... 0.18181818181818182\n",
            "3 ... 0.05454545454545454\n",
            "4 ... 0.07272727272727272\n",
            "5 ... 0.09090909090909091\n",
            "6 ... 0.10909090909090909\n",
            "7 ... 0.12727272727272726\n",
            "8 ... 0.14545454545454545\n",
            "9 ... 0.16363636363636364\n",
            "\n",
            "\n",
            "1 ... 0.5454545454545454\n",
            "2 ... 0.18181818181818182\n",
            "3 ... 0.2727272727272727\n",
            "4 ... 0.0\n",
            "5 ... 0.0\n",
            "6 ... 0.0\n",
            "7 ... 0.0\n",
            "8 ... 0.0\n",
            "9 ... 0.0\n"
          ],
          "name": "stdout"
        }
      ]
    }
  ]
}